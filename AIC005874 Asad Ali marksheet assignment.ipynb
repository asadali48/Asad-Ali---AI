{
 "cells": [
  {
   "cell_type": "code",
   "execution_count": 1,
   "metadata": {},
   "outputs": [
    {
     "name": "stdout",
     "output_type": "stream",
     "text": [
      "Enter physics marks from 0 to 100455\n",
      "Enter physics marks from 0 to 100855\n",
      "Enter physics marks from 0 to 100-58\n",
      "Enter physics marks from 0 to 10085\n",
      "Enter chemistry marks 85\n",
      "Enter mathematics marks 45\n",
      "Obtained percentage = 71.66666666666667% \n",
      "Your Grade = A\n"
     ]
    }
   ],
   "source": [
    "def check(sub):\n",
    "    while (sub>100) or (sub<0):\n",
    "        sub = float(input(\"Enter physics marks from 0 to 100. \"))\n",
    "    return(sub)\n",
    "\n",
    "phy = check(float(input(\"Enter physics marks from 0 to 100\")))\n",
    "\n",
    "chem = check(float(input(\"Enter chemistry marks \")))\n",
    "\n",
    "maths = check(float(input(\"Enter mathematics marks \")))\n",
    "\n",
    "obt = phy + chem + maths\n",
    "percent = obt/300 * 100\n",
    "print(\"Obtained percentage = {}% \".format(percent))\n",
    "if percent >= 80:\n",
    "    print(\"your Grade = A+\")\n",
    "elif percent >=70:\n",
    "    print(\"Your Grade = A\")\n",
    "elif percent>=60:\n",
    "    print(\"Your Grade = B+\")\n",
    "elif percent>=55:\n",
    "    print(\"Your Grade = B\")\n",
    "elif percent>=50:\n",
    "    print(\"Your Grade = C\")\n",
    "else:\n",
    "    print(\"Your Grade = F\")\n",
    "\n"
   ]
  },
  {
   "cell_type": "code",
   "execution_count": null,
   "metadata": {},
   "outputs": [],
   "source": []
  }
 ],
 "metadata": {
  "kernelspec": {
   "display_name": "Python 3",
   "language": "python",
   "name": "python3"
  },
  "language_info": {
   "codemirror_mode": {
    "name": "ipython",
    "version": 3
   },
   "file_extension": ".py",
   "mimetype": "text/x-python",
   "name": "python",
   "nbconvert_exporter": "python",
   "pygments_lexer": "ipython3",
   "version": "3.6.4"
  }
 },
 "nbformat": 4,
 "nbformat_minor": 2
}
